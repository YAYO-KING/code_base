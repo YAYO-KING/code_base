{
 "cells": [
  {
   "cell_type": "code",
   "execution_count": 3,
   "metadata": {
    "collapsed": true,
    "ExecuteTime": {
     "end_time": "2023-11-26T04:21:20.709022Z",
     "start_time": "2023-11-26T04:21:20.697963Z"
    }
   },
   "outputs": [
    {
     "name": "stdout",
     "output_type": "stream",
     "text": [
      "hello python\n"
     ]
    }
   ],
   "source": [
    "# print函数 用来向控制台输出字符串\n",
    "print(\"hello python\")\n"
   ]
  },
  {
   "cell_type": "code",
   "execution_count": 4,
   "outputs": [
    {
     "name": "stdout",
     "output_type": "stream",
     "text": [
      "yanyue 29 True 15000.01\n"
     ]
    }
   ],
   "source": [
    "# 变量\n",
    "username = \"yanyue\"  # 字符串\n",
    "age = 29  # 整数\n",
    "married = True  # 布尔值\n",
    "salary = 15000.01  # 浮点数\n",
    "\n",
    "# 变量\n",
    "username = \"yanyue\"  # 字符串\n",
    "age = 29  # 整数\n",
    "married = True  # 布尔值\n",
    "salary = 15000.01  # 浮点数\n",
    "\n",
    "print(username, age, married, salary)  # yanyue 29 True 15000.01\n"
   ],
   "metadata": {
    "collapsed": false,
    "ExecuteTime": {
     "end_time": "2023-11-26T04:21:22.517566Z",
     "start_time": "2023-11-26T04:21:22.507294Z"
    }
   }
  },
  {
   "cell_type": "code",
   "execution_count": 5,
   "outputs": [
    {
     "name": "stdout",
     "output_type": "stream",
     "text": [
      "<class 'float'>\n"
     ]
    }
   ],
   "source": [],
   "metadata": {
    "collapsed": false,
    "ExecuteTime": {
     "end_time": "2023-11-26T04:21:27.870167Z",
     "start_time": "2023-11-26T04:21:27.861879Z"
    }
   }
  }
 ],
 "metadata": {
  "kernelspec": {
   "display_name": "Python 3",
   "language": "python",
   "name": "python3"
  },
  "language_info": {
   "codemirror_mode": {
    "name": "ipython",
    "version": 2
   },
   "file_extension": ".py",
   "mimetype": "text/x-python",
   "name": "python",
   "nbconvert_exporter": "python",
   "pygments_lexer": "ipython2",
   "version": "2.7.6"
  }
 },
 "nbformat": 4,
 "nbformat_minor": 0
}
