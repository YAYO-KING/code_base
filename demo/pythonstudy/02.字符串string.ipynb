{
 "cells": [
  {
   "cell_type": "code",
   "execution_count": 1,
   "metadata": {
    "collapsed": true,
    "ExecuteTime": {
     "end_time": "2023-11-26T04:35:22.174836Z",
     "start_time": "2023-11-26T04:35:22.172556Z"
    }
   },
   "outputs": [
    {
     "name": "stdout",
     "output_type": "stream",
     "text": [
      "YANYUE\n",
      "yanyue\n",
      "Yanyue\n",
      "Yanyue\n",
      "YANYUE\n"
     ]
    }
   ],
   "source": [
    "# 2.字符串大小写切换\n",
    "str1 = \"yanyue\"\n",
    "print(str1.upper())  # YAN YUE\n",
    "print(str1.lower())\n",
    "print(str1.capitalize())  # Yan yue 首字母大写\n",
    "print(str1.title())  # Yan Yue 设置每个单词的首字母大写\n",
    "print(str1.swapcase())  # 大小写互换"
   ]
  },
  {
   "cell_type": "code",
   "execution_count": 2,
   "outputs": [
    {
     "name": "stdout",
     "output_type": "stream",
     "text": [
      "我叫yan yue，我的昵称是YAYO\n",
      "我叫yan yue，我的昵称是YAYO\n",
      "我叫yan yue，我的昵称是YAYO\n"
     ]
    }
   ],
   "source": [
    "# 3.字符串格式化 format\n",
    "str1=\"yan yue\"\n",
    "str2=\"YAYO\"\n",
    "print(\"我叫{}，我的昵称是{}\".format(str1, str2))  # 我叫yan yue，我的昵称是YAYO\n",
    "print(\"我叫{1}，我的昵称是{0}\".format(str2, str1))\n",
    "print(\"我叫{p1}，我的昵称是{p2}\".format(p1=str1, p2=str2))"
   ],
   "metadata": {
    "collapsed": false,
    "ExecuteTime": {
     "end_time": "2023-11-26T04:36:11.583672Z",
     "start_time": "2023-11-26T04:36:11.576372Z"
    }
   }
  },
  {
   "cell_type": "code",
   "execution_count": 3,
   "outputs": [
    {
     "name": "stdout",
     "output_type": "stream",
     "text": [
      "1234.56\n",
      "1,234.5555\n",
      "请你向yanyue账户转账$11,233.555\n"
     ]
    }
   ],
   "source": [
    "# 4.格式化数字\n",
    "print(format(1234.5555, '0.2f'))  # 小数保留2位   1234.56\n",
    "print(format(1234.5555, ','))  # 千分位分隔符  1,234.5555\n",
    "# 在字符串格式化输出的时候，如果需要格式化输出数字，则需要在{}内增加:前缀，之后写上数字格式化语句\n",
    "print(\"请你向{}账户转账${:0,.3f}\".format(\"yanyue\", 11233.555))"
   ],
   "metadata": {
    "collapsed": false,
    "ExecuteTime": {
     "end_time": "2023-11-26T04:37:40.753517Z",
     "start_time": "2023-11-26T04:37:40.743030Z"
    }
   }
  },
  {
   "cell_type": "code",
   "execution_count": 4,
   "outputs": [
    {
     "name": "stdout",
     "output_type": "stream",
     "text": [
      "4\n",
      "Yan Yue\n"
     ]
    }
   ],
   "source": [
    "# 5.查找字符串str.find(xxx,startIndex,endIndex)\n",
    "print(str1.find('y', 2))\n",
    "\n",
    "# 6.字符串替换 str.replace(原始串,目标串,替换次数)\n",
    "print(str1.replace('y', 'Y'))"
   ],
   "metadata": {
    "collapsed": false,
    "ExecuteTime": {
     "end_time": "2023-11-26T04:37:50.931061Z",
     "start_time": "2023-11-26T04:37:50.920500Z"
    }
   }
  },
  {
   "cell_type": "code",
   "execution_count": 6,
   "outputs": [
    {
     "data": {
      "text/plain": "['111', '222', '333', '444', '555']"
     },
     "execution_count": 6,
     "metadata": {},
     "output_type": "execute_result"
    }
   ],
   "source": [
    "# 字符串切割\n",
    "empList = \"111,222,333,444,555\".split(\",\")\n",
    "empList"
   ],
   "metadata": {
    "collapsed": false,
    "ExecuteTime": {
     "end_time": "2023-11-26T04:39:53.543162Z",
     "start_time": "2023-11-26T04:39:53.519229Z"
    }
   }
  }
 ],
 "metadata": {
  "kernelspec": {
   "display_name": "Python 3",
   "language": "python",
   "name": "python3"
  },
  "language_info": {
   "codemirror_mode": {
    "name": "ipython",
    "version": 2
   },
   "file_extension": ".py",
   "mimetype": "text/x-python",
   "name": "python",
   "nbconvert_exporter": "python",
   "pygments_lexer": "ipython2",
   "version": "2.7.6"
  }
 },
 "nbformat": 4,
 "nbformat_minor": 0
}
