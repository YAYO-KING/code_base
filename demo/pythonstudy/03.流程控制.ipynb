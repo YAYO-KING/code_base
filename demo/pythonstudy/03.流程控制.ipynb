{
 "cells": [
  {
   "cell_type": "code",
   "execution_count": null,
   "metadata": {
    "collapsed": true
   },
   "outputs": [],
   "source": [
    "# while循环\n",
    "i = 0\n",
    "while i < 10:\n",
    "    print(i)\n",
    "    i = i + 1"
   ]
  },
  {
   "cell_type": "code",
   "execution_count": null,
   "outputs": [],
   "source": [
    "# while循环\n",
    "i = 0\n",
    "while i < 10:\n",
    "    i = i + 1  # 这边不能放最下面，不然每次开始循环的时候 i都是0\n",
    "    if i % 3 != 0:\n",
    "        continue\n",
    "    print(i)"
   ],
   "metadata": {
    "collapsed": false
   }
  },
  {
   "cell_type": "code",
   "execution_count": null,
   "outputs": [],
   "source": [
    "# while循环\n",
    "i = 0\n",
    "while i < 10:\n",
    "    i = i + 1  # 这边不能放最下面，不然每次开始循环的时候 i都是0\n",
    "    if i % 3 != 0:\n",
    "        print(i)\n",
    "        break"
   ],
   "metadata": {
    "collapsed": false
   }
  },
  {
   "cell_type": "code",
   "execution_count": 3,
   "outputs": [],
   "source": [
    "# 算数运算符 + - * / // % **\n",
    "# 比较运算符 ==  !=  >  >=  <  <=\n",
    "# 逻辑运算符  and  or  not\n",
    "# 赋值运算符  =  +=  -=   *=  /=  %=  **=  //=\n",
    "# 成员运算符 in  not in -- 判断一个元素是否在指定的序列中存在\n",
    "# 身份运算符 is  is not -- 判断两个变量是否引用自同一个对象"
   ],
   "metadata": {
    "collapsed": false,
    "ExecuteTime": {
     "end_time": "2023-11-26T04:49:51.342340Z",
     "start_time": "2023-11-26T04:49:51.331284Z"
    }
   }
  },
  {
   "cell_type": "code",
   "execution_count": null,
   "outputs": [],
   "source": [],
   "metadata": {
    "collapsed": false
   }
  },
  {
   "cell_type": "code",
   "execution_count": null,
   "outputs": [],
   "source": [],
   "metadata": {
    "collapsed": false
   }
  }
 ],
 "metadata": {
  "kernelspec": {
   "display_name": "Python 3",
   "language": "python",
   "name": "python3"
  },
  "language_info": {
   "codemirror_mode": {
    "name": "ipython",
    "version": 2
   },
   "file_extension": ".py",
   "mimetype": "text/x-python",
   "name": "python",
   "nbconvert_exporter": "python",
   "pygments_lexer": "ipython2",
   "version": "2.7.6"
  }
 },
 "nbformat": 4,
 "nbformat_minor": 0
}
