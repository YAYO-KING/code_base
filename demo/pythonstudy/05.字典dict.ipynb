{
 "cells": [
  {
   "cell_type": "code",
   "execution_count": 1,
   "metadata": {
    "collapsed": true,
    "ExecuteTime": {
     "end_time": "2023-11-26T04:52:32.407655Z",
     "start_time": "2023-11-26T04:52:32.230402Z"
    }
   },
   "outputs": [
    {
     "ename": "NameError",
     "evalue": "name '字典' is not defined",
     "output_type": "error",
     "traceback": [
      "\u001B[0;31m---------------------------------------------------------------------------\u001B[0m",
      "\u001B[0;31mNameError\u001B[0m                                 Traceback (most recent call last)",
      "Cell \u001B[0;32mIn[1], line 1\u001B[0m\n\u001B[0;32m----> 1\u001B[0m 字典\n\u001B[1;32m      2\u001B[0m \u001B[38;5;28mdict\u001B[39m\n\u001B[1;32m      3\u001B[0m {}\n",
      "\u001B[0;31mNameError\u001B[0m: name '字典' is not defined"
     ]
    }
   ],
   "source": [
    " 字典\n",
    "dict\n",
    "{}\n",
    "key - value\n",
    "\n",
    "# 1.创建一个字段\n",
    "dict1 = {'name': 'yamyue', 'age': 29, 'qq': '11111@qq.com'}\n",
    "print(type(dict1))  # <class 'dict'>\n",
    "print(dict1)  # {'name': 'yamyue', 'age': 29, 'qq': '11111@qq.com'}\n",
    "# setdefault设置默认值\n",
    "dict1.setdefault('nickname', 'YAYO')\n",
    "print(dict1)  # {'name': 'yamyue', 'age': 29, 'qq': '11111@qq.com', 'nickname': 'YAYO'}\n",
    "\n",
    "# 2.字典取值\n",
    "name = dict1['name']\n",
    "print(name)  # yamyue\n",
    "print(dict1.get('age'))  # 29\n",
    "print(dict1.get('age', 18))  # 29 如果无参的话就是使用默认值18\n",
    "\n",
    "# 3.in 成员运算符\n",
    "print('name' in dict1)  # True\n",
    "\n",
    "# 4.for遍历字典\n",
    "for key in dict1:\n",
    "    print(dict1[key])\n",
    "\n",
    "for key, value in dict1.items():\n",
    "    print(key, value)\n",
    "\n",
    "# 5.修改字典数据\n",
    "dict1['name'] = 'YAYO'\n",
    "print(dict1)  # {'name': 'YAYO', 'age': 29, 'qq': '11111@qq.com'}\n",
    "# 多个k-v的更新\n",
    "dict1.update(name='yanyue', age=30)\n",
    "print(dict1)  # {'name': 'yanyue', 'age': 30, 'qq': '11111@qq.com'}\n",
    "\n",
    "# 6.新增和修改一样，只是新增了新的key\n",
    "dict1['birth'] = '2020 02 35'\n",
    "print(dict1)  # {'name': 'yanyue', 'age': 30, 'qq': '11111@qq.com', 'birth': '2020 02 35'}\n",
    "\n",
    "# 7.删除指定的key\n",
    "dict1.pop('qq')\n",
    "print(dict1)  # {'name': 'yanyue', 'age': 30, 'birth': '2020 02 35'}\n",
    "kv = dict1.popitem()  # 删除最后一个kv，返回值是该kv的元组\n",
    "print(kv)  # ('birth', '2020 02 35')\n",
    "print(dict1)  # {'name': 'yanyue', 'age': 30}\n",
    "\n",
    "# 8.判断是否是否在字典中\n",
    "print('name' in dict1)  # True\n",
    "\n",
    "# 9.keys获取所有的键  values获取所有的值  items获取所有的键值对\n",
    "ks = dict1.keys()\n",
    "print(ks)  # dict_keys(['name', 'age', 'nickname'])\n",
    "print(type(ks))  # <class 'dict_keys'>\n",
    "vs = dict1.values()\n",
    "print(vs)  # dict_values(['yanyue', 30, 'YAYO'])\n",
    "print(type(vs))  # <class 'dict_values'>\n",
    "its = dict1.items()\n",
    "print(its)  # dict_items([('name', 'yanyue'), ('age', 30), ('nickname', 'YAYO')])\n",
    "print(type(its))  # <class 'dict_items'>\n",
    "\n",
    "dict1['company'] = 'huawei'  # 当数据发生变化之后，视图对象也会跟着变化\n",
    "print(ks)  # dict_keys(['name', 'age', 'nickname', 'company'])\n",
    "print(vs)  # dict_values(['yanyue', 30, 'YAYO', 'huawei'])\n",
    "print(its)  # dict_items([('name', 'yanyue'), ('age', 30), ('nickname', 'YAYO'), ('company', 'huawei')])\n",
    "\n",
    "# 10.使用字典格式化字符串\n",
    "user = \"姓名：{name}，年龄：{age}，昵称：{nickname}，公司：{company}\".format_map(dict1)\n",
    "print(user)  # 姓名：yanyue，年龄：30，昵称：YAYO，公司：huawei\n",
    "\n",
    "# 清空字典\n",
    "dict1.clear()\n",
    "print(dict1)  # {}"
   ]
  }
 ],
 "metadata": {
  "kernelspec": {
   "display_name": "Python 3",
   "language": "python",
   "name": "python3"
  },
  "language_info": {
   "codemirror_mode": {
    "name": "ipython",
    "version": 2
   },
   "file_extension": ".py",
   "mimetype": "text/x-python",
   "name": "python",
   "nbconvert_exporter": "python",
   "pygments_lexer": "ipython2",
   "version": "2.7.6"
  }
 },
 "nbformat": 4,
 "nbformat_minor": 0
}
