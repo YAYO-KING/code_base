{
 "cells": [
  {
   "cell_type": "code",
   "execution_count": 1,
   "metadata": {
    "collapsed": true,
    "ExecuteTime": {
     "end_time": "2023-11-26T04:53:32.641956Z",
     "start_time": "2023-11-26T04:53:32.634154Z"
    }
   },
   "outputs": [
    {
     "name": "stdout",
     "output_type": "stream",
     "text": [
      "('yanyue', 29, '1111@qq.com')\n",
      "<class 'tuple'>\n",
      "29\n",
      "1111@qq.com\n",
      "(29, '1111@qq.com')\n",
      "True\n",
      "(['yanyue', 29, '1111@qq.com'], ['yanyue', 29, '1111@qq.com'])\n",
      "(['YAYO', 29, '1111@qq.com'], ['yanyue', 29, '1111@qq.com'])\n",
      "('yanyue', 29, '1111@qq.com', ['YAYO', 29, '1111@qq.com'], ['yanyue', 29, '1111@qq.com'])\n",
      "('yanyue', 29, 'yanyue', 29)\n",
      "('YAYO', 'YAYO', 'YAYO', 'YAYO', 'YAYO')\n"
     ]
    }
   ],
   "source": [
    "# 元组的使用Tuple\n",
    "\n",
    "# 1.创建元组\n",
    "t1 = ('yanyue', 29, '1111@qq.com')\n",
    "print(t1)  # ('yanyue', 29, '1111@qq.com')\n",
    "print(type(t1))  # <class 'tuple'>\n",
    "\n",
    "# 2.获取数据和列表一致\n",
    "print(t1[1])  # 29\n",
    "print(t1[-1])  # 1111@qq.com\n",
    "print(t1[1:3])  # (29, '1111@qq.com')\n",
    "print('yanyue' in t1)  # True\n",
    "\n",
    "# 3.元组在创建内容之后不可修改\n",
    "# t1[0] = 'YAYO' # TypeError: 'tuple' object does not support item assignment\n",
    "# t1.append('kkk') # AttributeError: 'tuple' object has no attribute 'append'\n",
    "# t1.insert('kkk')  # AttributeError: 'tuple' object has no attribute 'insert'\n",
    "# 如果元组内部存在列表的话，那么列表是可以修改的\n",
    "t2 = (['yanyue', 29, '1111@qq.com'], ['yanyue', 29, '1111@qq.com'])\n",
    "print(t2)  # (['yanyue', 29, '1111@qq.com'], ['yanyue', 29, '1111@qq.com'])\n",
    "t2[0][0] = 'YAYO'\n",
    "print(t2)  # (['YAYO', 29, '1111@qq.com'], ['yanyue', 29, '1111@qq.com'])\n",
    "# t2.pop()  # AttributeError: 'tuple' object has no attribute 'pop'\n",
    "\n",
    "# 4.元组运算符\n",
    "t3 = t1 + t2\n",
    "print(t3)  # ('yanyue', 29, '1111@qq.com', ['YAYO', 29, '1111@qq.com'], ['yanyue', 29, '1111@qq.com'])\n",
    "t4 = ('yanyue', 29) * 2\n",
    "print(t4)  # ('yanyue', 29, 'yanyue', 29)\n",
    "\n",
    "# 5.如果元组只有一个元素的时候，必须最后加 ， 表明这是一个元组\n",
    "t5 = ('YAYO',) * 5\n",
    "print(t5)  # ('YAYO', 'YAYO', 'YAYO', 'YAYO', 'YAYO')"
   ]
  },
  {
   "cell_type": "code",
   "execution_count": null,
   "outputs": [],
   "source": [],
   "metadata": {
    "collapsed": false
   }
  }
 ],
 "metadata": {
  "kernelspec": {
   "display_name": "Python 3",
   "language": "python",
   "name": "python3"
  },
  "language_info": {
   "codemirror_mode": {
    "name": "ipython",
    "version": 2
   },
   "file_extension": ".py",
   "mimetype": "text/x-python",
   "name": "python",
   "nbconvert_exporter": "python",
   "pygments_lexer": "ipython2",
   "version": "2.7.6"
  }
 },
 "nbformat": 4,
 "nbformat_minor": 0
}
