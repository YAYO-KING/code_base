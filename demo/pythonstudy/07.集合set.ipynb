{
 "cells": [
  {
   "cell_type": "code",
   "execution_count": 2,
   "metadata": {
    "collapsed": true,
    "ExecuteTime": {
     "end_time": "2023-11-26T05:25:19.975932Z",
     "start_time": "2023-11-26T05:25:19.961989Z"
    }
   },
   "outputs": [
    {
     "name": "stdout",
     "output_type": "stream",
     "text": [
      "{'物理', '语文', '化学', '数学'}\n",
      "{'物理', '化学', '英语', '语文', '数学'}\n",
      "{'y', 'n', 'u', 'a', 'e'}\n",
      "<class 'dict'>\n",
      "<class 'set'>\n",
      "{'物理', '化学', '数学'}\n",
      "{'物理', '化学', '英语', '语文', '数学'}\n",
      "{'语文'}\n",
      "True\n",
      "False\n",
      "True\n",
      "True\n",
      "False\n",
      "物理\n",
      "语文\n",
      "化学\n",
      "数学\n",
      "True\n",
      "{'物理', '化学', '高等数学', '语文', '数学'}\n",
      "{'物理', '化学', '模电', '高等数学', '语文', '数电', '数学'}\n",
      "{'物理', '化学', '模电', '语文', '数电', '数学'}\n"
     ]
    }
   ],
   "source": [
    "# 集合的操作 set\n",
    "\"\"\"\n",
    "集合是无序的\n",
    "\"\"\"\n",
    "# 1.创建集合 {}  set()\n",
    "courses1 = {\"语文\", '数学', '物理', '化学'}\n",
    "courses2 = {'数学', '英语', '物理', '化学'}\n",
    "print(courses1)  # {'化学', '语文', '物理', '数学', '英语'}\n",
    "# set() 内置函数从其他数据结构转换 注入：列表、元组\n",
    "print(set([\"语文\", '数学', '英语', '物理', '化学']))\n",
    "print(set(\"yanyue\"))  # {'u', 'e', 'y', 'a', 'n'}  创建字符串集合\n",
    "# 创建一个空的集合\n",
    "college1 = {}  # 这是空的字典  不行\n",
    "print(type(college1))  # <class 'dict'>\n",
    "college2 = set()  # 这才是一个空的集合\n",
    "print(type(college2))  # <class 'set'>\n",
    "\n",
    "# 2.集合的关系和数学运算\n",
    "# 交集\n",
    "print(courses1.intersection(courses2))  # {'化学', '数学', '物理'}\n",
    "# courses1.intersection_update(courses2) # 对原有的集合1进行更新，将交集赋值给集合1\n",
    "\n",
    "# 并集 -- 会自动去重\n",
    "print(courses1.union(courses2))  # {'物理', '化学', '语文', '数学', '英语'}\n",
    "\n",
    "# 差集\n",
    "print(courses1.difference(courses2))  # {'语文'}\n",
    "\n",
    "# 3.集合之间的关系操作\n",
    "s1 = {1, 2, 3, 4, 5, 6}\n",
    "s2 = {6, 5, 4, 3, 2, 1}\n",
    "s3 = {1, 2, 3}\n",
    "print(s1 == s2)  # True\n",
    "print(s1 is s2)  # False\n",
    "# issubset s3是否是s1的子集\n",
    "print(s3.issubset(s1))  # True\n",
    "# issuperset判断是否是父级\n",
    "print(s2.issuperset(s3))  # True\n",
    "# isdisjoint判断2个集合是否存在重复元素  True不存在 False存在\n",
    "print(s1.isdisjoint(s3))  # False\n",
    "\n",
    "# 4.集合的增删改查\n",
    "# 遍历\n",
    "for item in courses1:\n",
    "    print(item)\n",
    "# 判断元素是否存在\n",
    "print(\"语文\" in courses1)  # True\n",
    "# 集合不支持索引提取数据\n",
    "# print(courses1[2])\n",
    "\n",
    "# 新增数据add\n",
    "courses1.add('高等数学')\n",
    "print(courses1)  # {'数学', '高等数学', '化学', '物理', '语文'}\n",
    "# update可以一次新增多个元素\n",
    "courses1.update(['模电', '数电'])\n",
    "print(courses1)  # {'数电', '物理', '化学', '高等数学', '模电', '语文', '数学'}\n",
    "\n",
    "# 删除一个元素remove.remove如果删除不存在的元素，会报错\n",
    "courses1.remove('高等数学')\n",
    "print(courses1)  # {'化学', '物理', '模电', '语文', '数电', '数学'}\n",
    "# discard如果遇到不存在的元素就会忽略删除操作\n",
    "courses1.discard(\"体育\")"
   ]
  }
 ],
 "metadata": {
  "kernelspec": {
   "display_name": "Python 3",
   "language": "python",
   "name": "python3"
  },
  "language_info": {
   "codemirror_mode": {
    "name": "ipython",
    "version": 2
   },
   "file_extension": ".py",
   "mimetype": "text/x-python",
   "name": "python",
   "nbconvert_exporter": "python",
   "pygments_lexer": "ipython2",
   "version": "2.7.6"
  }
 },
 "nbformat": 4,
 "nbformat_minor": 0
}
