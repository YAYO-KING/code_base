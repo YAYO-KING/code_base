{
 "cells": [
  {
   "cell_type": "code",
   "execution_count": null,
   "metadata": {
    "collapsed": true
   },
   "outputs": [],
   "source": [
    "# 数字序列\n",
    "r1 = range(10, 100)\n",
    "print(r1)  # range(10, 100) 包前不包后\n",
    "print(type(r1))  # <class 'range'>\n",
    "print(r1[9])  # 19\n",
    "print(r1[3:5])  # range(13, 15)\n",
    "\n",
    "r2 = range(10, 100, 2)  # step步长\n",
    "print(r2)  # range(10, 100, 2)\n",
    "print(type(r2))  # <class 'range'>\n",
    "print(r2[2])  # 14\n",
    "\n",
    "print(12 in r2)  # True\n",
    "\n",
    "# 数字序列可以进行遍历序列\n",
    "str1 = 'yanyue'\n",
    "for i in range(0, len(str1)):\n",
    "    print(str1[i])"
   ]
  },
  {
   "cell_type": "code",
   "execution_count": null,
   "outputs": [],
   "source": [
    "# 序列类型转换\n",
    "\n",
    "list1 = ['a', 'b', 'c']\n",
    "tuple1 = ['a', 'b', 'c']\n",
    "str1 = 'abc123'\n",
    "str2 = 'abc,123'\n",
    "range1 = range(1, 4)\n",
    "\n",
    "# list() 转换成列表\n",
    "list2 = list(tuple1)\n",
    "print(list2)  # ['a', 'b', 'c']\n",
    "print(list(str1))  # ['a', 'b', 'c', '1', '2', '3']\n",
    "print(list(str2.split(',')))  # ['abc', '123']\n",
    "print(list(range1))  # [1, 2, 3]\n",
    "\n",
    "# tuple() 转换成元组\n",
    "print(tuple(list1))  # ('a', 'b', 'c')\n",
    "print(tuple(str1))  # ('a', 'b', 'c', '1', '2', '3')\n",
    "print(tuple(str2.split(',')))  # ('abc', '123')\n",
    "print(tuple(range1))  # (1, 2, 3)\n",
    "\n",
    "# str()函数将单个数据转为字符串 join对列表进行拼接,join要求所有的元素必须都是字符串\n",
    "print(str(list1))  # ['a', 'b', 'c']\n",
    "print(' '.join(list1))  # a b c\n",
    "print('|'.join(tuple1))  # a|b|c"
   ],
   "metadata": {
    "collapsed": false
   }
  },
  {
   "cell_type": "code",
   "execution_count": null,
   "outputs": [],
   "source": [
    "# 生成式：往数据结构中添加数据的简化书写形式\n",
    "# 生成式语法：[被追加的数据  循环语句 循环或者判断语句]|{}\n",
    "\n",
    "# 列表\n",
    "list1 = []\n",
    "for i in range(10, 20):\n",
    "    list1.append(i * 10)\n",
    "print(list1)  # [100, 110, 120, 130, 140, 150, 160, 170, 180, 190]\n",
    "\n",
    "# list列表生成式\n",
    "list2 = [i * 10 for i in range(10, 20)]\n",
    "print(list2)  # [100, 110, 120, 130, 140, 150, 160, 170, 180, 190]\n",
    "list3 = [i * 10 for i in range(10, 20) if i % 2 == 0]\n",
    "print(list3)  # [100, 120, 140, 160, 180]\n",
    "list4 = [i * j for i in range(1, 5) for j in range(1, 5)]\n",
    "print(list4)  # [1, 2, 3, 4, 2, 4, 6, 8, 3, 6, 9, 12, 4, 8, 12, 16]\n",
    "for i in range(1, 5):\n",
    "    for j in range(1, 5):\n",
    "        list4.append(i * j)\n",
    "\n",
    "# dict字典生成式\n",
    "list5 = ['张三', '李四', '王五']\n",
    "dict1 = {i + 1: list5[i] for i in range(0, len(list5))}\n",
    "print(dict1)  # {1: '张三', 2: '李四', 3: '王五'}\n",
    "\n",
    "# 结合生成式\n",
    "set1 = {i * j for i in range(1, 4) for j in range(1, 4) if i == j}\n",
    "print(set1)  # {1, 4, 9}\n",
    "\n",
    "for i in range(1, 4):\n",
    "    for j in range(1, 4):\n",
    "        if i == j:\n",
    "            set1.add(i * j)"
   ],
   "metadata": {
    "collapsed": false
   }
  }
 ],
 "metadata": {
  "kernelspec": {
   "display_name": "Python 3",
   "language": "python",
   "name": "python3"
  },
  "language_info": {
   "codemirror_mode": {
    "name": "ipython",
    "version": 2
   },
   "file_extension": ".py",
   "mimetype": "text/x-python",
   "name": "python",
   "nbconvert_exporter": "python",
   "pygments_lexer": "ipython2",
   "version": "2.7.6"
  }
 },
 "nbformat": 4,
 "nbformat_minor": 0
}
