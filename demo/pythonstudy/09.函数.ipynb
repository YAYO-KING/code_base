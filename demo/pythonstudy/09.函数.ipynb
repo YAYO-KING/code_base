{
 "cells": [
  {
   "cell_type": "code",
   "execution_count": null,
   "metadata": {
    "collapsed": true
   },
   "outputs": [],
   "source": [
    "# 函数使用\n",
    "\n",
    "# 1.参数默认值 xxx=xxx\n",
    "# 3.* 代表之后所有的参数传参必须使用关键字传参\n",
    "def say_hello(name='yanyue', *, age=30):\n",
    "    print(\"my name is \" + name + \",age is \" + str(age))\n",
    "\n",
    "\n",
    "say_hello(\"YAYO\")\n",
    "say_hello()\n",
    "\n",
    "# 2.关键字传参\n",
    "say_hello(age=25)\n",
    "\n",
    "# 4.混合形式传参 位置传参+关键字传参\n",
    "say_hello(\"KOKO\", age=40)\n",
    "\n",
    "\n",
    "# 5.序列传参\n",
    "def calc(a, b, c):\n",
    "    return (a + b) * c\n",
    "\n",
    "\n",
    "# 使用 *xxx来进行序列传参\n",
    "list1 = [1, 2, 3]\n",
    "print(calc(*list1))  # 9\n",
    "\n",
    "# 6.字典传参 使用 **来进行字典传参\n",
    "person = {\"name\": \"Jack\", \"age\": 20}\n",
    "say_hello(**person)  # my name is Jack,age is 20"
   ]
  }
 ],
 "metadata": {
  "kernelspec": {
   "display_name": "Python 3",
   "language": "python",
   "name": "python3"
  },
  "language_info": {
   "codemirror_mode": {
    "name": "ipython",
    "version": 2
   },
   "file_extension": ".py",
   "mimetype": "text/x-python",
   "name": "python",
   "nbconvert_exporter": "python",
   "pygments_lexer": "ipython2",
   "version": "2.7.6"
  }
 },
 "nbformat": 4,
 "nbformat_minor": 0
}
