{
 "cells": [
  {
   "cell_type": "code",
   "execution_count": null,
   "metadata": {
    "collapsed": true
   },
   "outputs": [],
   "source": [
    "# 什么是模块 -- python安装目录的lib目录下\n",
    "# 模块分为：\n",
    "# 1.python标准库\n",
    "# 2.第三方模块库\n",
    "# 3.自定义模块"
   ]
  },
  {
   "cell_type": "code",
   "execution_count": null,
   "outputs": [],
   "source": [
    "# 导入模块\n",
    "import sys\n",
    "import os"
   ],
   "metadata": {
    "collapsed": false
   }
  },
  {
   "cell_type": "code",
   "execution_count": null,
   "outputs": [],
   "source": [
    "# 什么是包\n",
    "# 可以用来组织模块（可以包含其他模块的模块）\n",
    "# 可以解决模块重名的问题\n",
    "# 必须包含文件__init__.py\n",
    "\n",
    "# __init__.py 将一个文件夹变成一个模块\n",
    "\n"
   ],
   "metadata": {
    "collapsed": false
   }
  },
  {
   "cell_type": "code",
   "execution_count": null,
   "outputs": [],
   "source": [
    "# 引入包\n",
    "# 引入整个包\n",
    "import code_common\n",
    "# 引入所属要的属性和方法\n",
    "from code_domain.model import JsonResult\n",
    "# 使用别名\n",
    "from code_domain.model import JsonResult as JR\n",
    "# 引入所有\n",
    "from code_common import *"
   ],
   "metadata": {
    "collapsed": false
   }
  },
  {
   "cell_type": "code",
   "execution_count": null,
   "outputs": [],
   "source": [
    "# os 模块 操作系统\n",
    "# os.environ\n",
    "# os.system(‘xxx’)"
   ],
   "metadata": {
    "collapsed": false
   }
  }
 ],
 "metadata": {
  "kernelspec": {
   "display_name": "Python 3",
   "language": "python",
   "name": "python3"
  },
  "language_info": {
   "codemirror_mode": {
    "name": "ipython",
    "version": 2
   },
   "file_extension": ".py",
   "mimetype": "text/x-python",
   "name": "python",
   "nbconvert_exporter": "python",
   "pygments_lexer": "ipython2",
   "version": "2.7.6"
  }
 },
 "nbformat": 4,
 "nbformat_minor": 0
}
