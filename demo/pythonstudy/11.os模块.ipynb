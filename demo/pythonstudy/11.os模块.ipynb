{
 "cells": [
  {
   "cell_type": "code",
   "execution_count": 1,
   "metadata": {
    "collapsed": true,
    "ExecuteTime": {
     "end_time": "2023-11-26T05:52:38.700906Z",
     "start_time": "2023-11-26T05:52:38.695618Z"
    }
   },
   "outputs": [
    {
     "data": {
      "text/plain": "['__all__',\n '__builtins__',\n '__doc__',\n '__file__',\n '__loader__',\n '__name__',\n '__package__',\n '__spec__',\n '_get_sep',\n '_joinrealpath',\n '_path_normpath',\n '_varprog',\n '_varprogb',\n 'abspath',\n 'altsep',\n 'basename',\n 'commonpath',\n 'commonprefix',\n 'curdir',\n 'defpath',\n 'devnull',\n 'dirname',\n 'exists',\n 'expanduser',\n 'expandvars',\n 'extsep',\n 'genericpath',\n 'getatime',\n 'getctime',\n 'getmtime',\n 'getsize',\n 'isabs',\n 'isdir',\n 'isfile',\n 'islink',\n 'ismount',\n 'join',\n 'lexists',\n 'normcase',\n 'normpath',\n 'os',\n 'pardir',\n 'pathsep',\n 'realpath',\n 'relpath',\n 'samefile',\n 'sameopenfile',\n 'samestat',\n 'sep',\n 'split',\n 'splitdrive',\n 'splitext',\n 'stat',\n 'supports_unicode_filenames',\n 'sys']"
     },
     "execution_count": 1,
     "metadata": {},
     "output_type": "execute_result"
    }
   ],
   "source": [
    "# os 操作系统模块\n",
    "import os\n",
    "\n",
    "dir(os.path)"
   ]
  },
  {
   "cell_type": "code",
   "execution_count": 2,
   "outputs": [
    {
     "name": "stdout",
     "output_type": "stream",
     "text": [
      "/Users/yanyue/Desktop/YAYO/projects/python/code-base-py/demo/pythonstudy\n"
     ]
    }
   ],
   "source": [
    "# os.getcwd() 执行命令\n",
    "print(os.getcwd())"
   ],
   "metadata": {
    "collapsed": false,
    "ExecuteTime": {
     "end_time": "2023-11-26T05:52:38.704357Z",
     "start_time": "2023-11-26T05:52:38.701581Z"
    }
   }
  },
  {
   "cell_type": "code",
   "execution_count": 3,
   "outputs": [
    {
     "name": "stdout",
     "output_type": "stream",
     "text": [
      "['07.集合set.ipynb', '10.模块和包.ipynb', '09.函数.ipynb', '02.字符串string.ipynb', '08.序列.ipynb', '11.os模块.ipynb', '03.流程控制.ipynb', '01.简介.ipynb', '04.列表list.ipynb', '06.元组Tuple.ipynb', '05.字典dict.ipynb']\n"
     ]
    }
   ],
   "source": [
    "# os.listdir() 当前路径下的文件和目录\n",
    "print(os.listdir())"
   ],
   "metadata": {
    "collapsed": false,
    "ExecuteTime": {
     "end_time": "2023-11-26T05:52:38.708453Z",
     "start_time": "2023-11-26T05:52:38.704032Z"
    }
   }
  },
  {
   "cell_type": "code",
   "execution_count": 10,
   "outputs": [
    {
     "data": {
      "text/plain": "False"
     },
     "execution_count": 10,
     "metadata": {},
     "output_type": "execute_result"
    }
   ],
   "source": [
    "os.path.isdir('11.os模块.ipynb')  # False"
   ],
   "metadata": {
    "collapsed": false,
    "ExecuteTime": {
     "end_time": "2023-11-26T05:53:17.269306Z",
     "start_time": "2023-11-26T05:53:17.260370Z"
    }
   }
  },
  {
   "cell_type": "code",
   "execution_count": 11,
   "outputs": [
    {
     "data": {
      "text/plain": "True"
     },
     "execution_count": 11,
     "metadata": {},
     "output_type": "execute_result"
    }
   ],
   "source": [
    "os.path.isfile('11.os模块.ipynb') # True"
   ],
   "metadata": {
    "collapsed": false,
    "ExecuteTime": {
     "end_time": "2023-11-26T05:53:19.372320Z",
     "start_time": "2023-11-26T05:53:19.363026Z"
    }
   }
  },
  {
   "cell_type": "code",
   "execution_count": 12,
   "outputs": [
    {
     "data": {
      "text/plain": "True"
     },
     "execution_count": 12,
     "metadata": {},
     "output_type": "execute_result"
    }
   ],
   "source": [
    "# 文件或者目录是否存在os.path.exists\n",
    "os.path.exists('11.os模块.ipynb')  # True"
   ],
   "metadata": {
    "collapsed": false,
    "ExecuteTime": {
     "end_time": "2023-11-26T05:53:21.421188Z",
     "start_time": "2023-11-26T05:53:21.411315Z"
    }
   }
  },
  {
   "cell_type": "code",
   "execution_count": 13,
   "outputs": [
    {
     "data": {
      "text/plain": "''"
     },
     "execution_count": 13,
     "metadata": {},
     "output_type": "execute_result"
    }
   ],
   "source": [
    "# 获取文件的目录名称\n",
    "os.path.dirname('11.os模块.ipynb')"
   ],
   "metadata": {
    "collapsed": false,
    "ExecuteTime": {
     "end_time": "2023-11-26T05:53:23.118273Z",
     "start_time": "2023-11-26T05:53:23.108842Z"
    }
   }
  },
  {
   "cell_type": "code",
   "execution_count": null,
   "outputs": [],
   "source": [],
   "metadata": {
    "collapsed": false
   }
  }
 ],
 "metadata": {
  "kernelspec": {
   "display_name": "Python 3",
   "language": "python",
   "name": "python3"
  },
  "language_info": {
   "codemirror_mode": {
    "name": "ipython",
    "version": 2
   },
   "file_extension": ".py",
   "mimetype": "text/x-python",
   "name": "python",
   "nbconvert_exporter": "python",
   "pygments_lexer": "ipython2",
   "version": "2.7.6"
  }
 },
 "nbformat": 4,
 "nbformat_minor": 0
}
