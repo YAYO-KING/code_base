{
 "cells": [
  {
   "cell_type": "code",
   "execution_count": null,
   "metadata": {
    "collapsed": true
   },
   "outputs": [],
   "source": [
    "# 高级函数\n",
    "# lamnda是一种表达式，创建内嵌的的简单匿名函数；\n",
    "# filter函数：返回一个filter对象，其中包含对其执行函数时结果为真的所有元素；\n",
    "\n",
    "def use_filter(lis):\n",
    "    \"\"\"\n",
    "    获取执行列表或者元组中的奇数\n",
    "    :param list: list、tuple要过滤的数据\n",
    "    :return: 过滤好的奇数列表\n",
    "    \"\"\"\n",
    "    # 使用lambda表达式：一个匿名函数 n参数   n % 2 != 0返回参数等于true的变量\n",
    "    result = filter(lambda n: n % 2 != 0, lis)\n",
    "    return result\n",
    "\n",
    "\n",
    "list1 = [1, 2, 3, 4, 5, 6, 7, 8, 9]\n",
    "res = use_filter(list1)\n",
    "print(list(res))"
   ]
  },
  {
   "cell_type": "code",
   "execution_count": null,
   "outputs": [],
   "source": [
    "# map函数 -- 创建一个列表，其中包含了对指定序列包含的项执行执行函数返回\n",
    "def pow_number(lis):\n",
    "    return map(lambda n: n * n * n, lis)\n",
    "\n",
    "res2 = pow_number(list1)\n",
    "print(list(res2))  # [1, 8, 27, 64, 125, 216, 343, 512, 729]"
   ],
   "metadata": {
    "collapsed": false
   }
  }
 ],
 "metadata": {
  "kernelspec": {
   "display_name": "Python 3",
   "language": "python",
   "name": "python3"
  },
  "language_info": {
   "codemirror_mode": {
    "name": "ipython",
    "version": 2
   },
   "file_extension": ".py",
   "mimetype": "text/x-python",
   "name": "python",
   "nbconvert_exporter": "python",
   "pygments_lexer": "ipython2",
   "version": "2.7.6"
  }
 },
 "nbformat": 4,
 "nbformat_minor": 0
}
