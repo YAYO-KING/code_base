{
 "cells": [
  {
   "cell_type": "code",
   "execution_count": null,
   "metadata": {
    "collapsed": true
   },
   "outputs": [],
   "source": [
    "# 文件操作\n",
    "# r 读取模式  默认值\n",
    "# w 写入模式\n",
    "# x 独占写入模式\n",
    "# a 附件模式\n",
    "# b 二进制模式\n",
    "# t 文本模式 默认值\n",
    "# + 读写模式\n",
    "\n",
    "# open打开文件\n",
    "file = open(\"./file/hello.txt\")\n",
    "print(file)  # <_io.TextIOWrapper name='./file/hello.txt' mode='r' encoding='cp936'>\n",
    "\n",
    "# close关闭文件\n",
    "file.close()\n",
    "\n",
    "# 如果文件打开但是会忘记关闭，使用with语法\n",
    "# 到达语句的末尾会自动的关闭文件，即使出现异常也会关闭文件\n",
    "with open(\"./file/hello.txt\") as file:\n",
    "    print(file)  # <_io.TextIOWrapper name='./file/hello.txt' mode='r' encoding='cp936'>\n"
   ]
  },
  {
   "cell_type": "code",
   "execution_count": null,
   "outputs": [],
   "source": [
    "# 文件操作\n",
    "\n",
    "# 1.open打开文件\n",
    "file = open(\"./file/hello.txt\", encoding='utf-8')\n",
    "print(file)  # <_io.TextIOWrapper name='./file/hello.txt' mode='r' encoding='cp936'>\n",
    "\n",
    "# read读取文件\n",
    "res = file.read()  # read() 读取文件的所有内容\n",
    "# res = file.readline()  # readline() 读取一行字符\n",
    "# res = file.readlines() # readlines() 读取所有行并返回列表 ['hello python!!!\\n', '人生苦短，我选python！！！\\n', '\\n']\n",
    "print(res)  # hello python!!!\n",
    "\"\"\"\n",
    "hello python!!!\n",
    "人生苦短，我选python！！！\n",
    "\"\"\"\n",
    "# res1 = file.read(8)  # hello py --  读取文件的8个字节\n",
    "# print(res1)\n",
    "\n",
    "# 2.close关闭文件\n",
    "file.close()\n",
    "\n",
    "# 3.with:如果文件打开但是会忘记关闭，使用with语法\n",
    "# 到达语句的末尾会自动的关闭文件，即使出现异常也会关闭文件\n",
    "with open(\"./file/hello.txt\") as file:\n",
    "    print(file)  # <_io.TextIOWrapper name='./file/hello.txt' mode='r' encoding='cp936'>"
   ],
   "metadata": {
    "collapsed": false
   }
  },
  {
   "cell_type": "code",
   "execution_count": null,
   "outputs": [],
   "source": [
    "# 文件操作\n",
    "\n",
    "# 1.open打开文件\n",
    "file = open(\"./file/hello.txt\", encoding='utf-8')\n",
    "print(file)  # <_io.TextIOWrapper name='./file/hello.txt' mode='r' encoding='cp936'>\n",
    "\n",
    "# 3.read读取文件\n",
    "res = file.read()  # read() 读取文件的所有内容\n",
    "# res = file.readline()  # readline() 读取一行字符\n",
    "# res = file.readlines() # readlines() 读取所有行并返回列表 ['hello python!!!\\n', '人生苦短，我选python！！！\\n', '\\n']\n",
    "print(res)  # hello python!!!\n",
    "\"\"\"\n",
    "hello python!!!\n",
    "人生苦短，我选python！！！\n",
    "\"\"\"\n",
    "# res1 = file.read(8)  # hello py --  读取文件的8个字节\n",
    "# print(res1)\n",
    "\n",
    "# 4.write文件写入 write写入一行内容\n",
    "# writelines函数写入多行内容\n",
    "with open(\"./file/hello.txt\", 'a', encoding='utf-8') as file:\n",
    "    file.write(\"my name is yanyue\")\n",
    "    lis1 = [\"星期一\", '\\n', \"星期二\", \"星期三\", \"星期四\", \"星期五\"]\n",
    "    file.writelines(lis1)\n",
    "\n",
    "# 5.文件先读写 r+ 文件读写模式r+\n",
    "with open(\"./file/hello.txt\", 'r+', encoding='utf-8') as file:\n",
    "    print(file.read())\n",
    "    file.write('fuck')\n",
    "    print(file.read())\n",
    "\n",
    "# 2.close关闭文件\n",
    "file.close()\n",
    "\n",
    "# 3.with:如果文件打开但是会忘记关闭，使用with语法\n",
    "# 到达语句的末尾会自动的关闭文件，即使出现异常也会关闭文件\n",
    "with open(\"./file/hello.txt\") as file:\n",
    "    print(file)  # <_io.TextIOWrapper name='./file/hello.txt' mode='r' encoding='cp936'>"
   ],
   "metadata": {
    "collapsed": false
   }
  }
 ],
 "metadata": {
  "kernelspec": {
   "display_name": "Python 3",
   "language": "python",
   "name": "python3"
  },
  "language_info": {
   "codemirror_mode": {
    "name": "ipython",
    "version": 2
   },
   "file_extension": ".py",
   "mimetype": "text/x-python",
   "name": "python",
   "nbconvert_exporter": "python",
   "pygments_lexer": "ipython2",
   "version": "2.7.6"
  }
 },
 "nbformat": 4,
 "nbformat_minor": 0
}
