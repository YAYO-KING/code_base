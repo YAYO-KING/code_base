{
 "cells": [
  {
   "cell_type": "code",
   "execution_count": null,
   "metadata": {
    "collapsed": true
   },
   "outputs": [],
   "source": [
    "# 重写父类中继承的方法\n",
    "\n",
    "class BaseCat:\n",
    "    \"\"\"猫科动物 基类\"\"\"\n",
    "    tag = \"猫科动物\"\n",
    "\n",
    "    def __init__(self, name):\n",
    "        self.name = name\n",
    "\n",
    "    def eat(self):\n",
    "        print(\"猫都要吃东西\")\n",
    "\n",
    "\n",
    "class ProtectedMixin:\n",
    "    \"\"\"国家保护动物类\"\"\"\n",
    "\n",
    "    def protected(self):\n",
    "        print(\"国家保护动物\")\n",
    "\n",
    "\n",
    "class Tiger(BaseCat, ProtectedMixin):  # 类可以多继承的\n",
    "    # 注意：继承多个类的时候，如果类中的方法存在同名的情况，会只触发先继承的类的方法\n",
    "    def __init__(self, name, color):  # 重写构造方法\n",
    "        # 调用父类的构造方法\n",
    "        super().__init__(name)\n",
    "        self.color = color\n",
    "\n",
    "    def eat(self):\n",
    "        # 调用父类中的方法\n",
    "        super().eat()\n",
    "        # 扩充下自己的方法内容\n",
    "        print(\"我还喜欢吃大肉\")\n",
    "\n",
    "    def show_info(self):\n",
    "        \"\"\"\n",
    "        显示猫的信息\n",
    "        :return:\n",
    "        \"\"\"\n",
    "        print(\"Tiger 名字：{0}，颜色：{1}\".format(self.name, self.color))"
   ]
  }
 ],
 "metadata": {
  "kernelspec": {
   "display_name": "Python 3",
   "language": "python",
   "name": "python3"
  },
  "language_info": {
   "codemirror_mode": {
    "name": "ipython",
    "version": 2
   },
   "file_extension": ".py",
   "mimetype": "text/x-python",
   "name": "python",
   "nbconvert_exporter": "python",
   "pygments_lexer": "ipython2",
   "version": "2.7.6"
  }
 },
 "nbformat": 4,
 "nbformat_minor": 0
}
