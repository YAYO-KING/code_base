{
 "cells": [
  {
   "cell_type": "code",
   "execution_count": null,
   "metadata": {
    "collapsed": true
   },
   "outputs": [],
   "source": [
    "class Cat:\n",
    "    tag = \"猫科动物\"\n",
    "\n",
    "    def __init__(self, name):\n",
    "        self.name = name\n",
    "\n",
    "    # @staticmethod -- 静态方法\n",
    "    @staticmethod\n",
    "    def breath():\n",
    "        print(\"猫都要呼吸的\")\n",
    "\n",
    "    # @classmethod 表示类方法\n",
    "    @classmethod\n",
    "    def show_info(cls, name):\n",
    "        # print(\"类是属性是：{0}，实例的属性是：{1}\".format(cls.tag, cls.name))\n",
    "        return cls(name)\n",
    "\n",
    "\n",
    "if __name__ == \"__main__\":\n",
    "    # 调用类的静态方法，直接使用类就可以了\n",
    "    Cat.breath()\n",
    "    cat = Cat('大橘')\n",
    "    cat.breath()\n",
    "    # 使用类的实例也可以调用类的静态方法\n",
    "    # cat.show_info()\n",
    "    # 调用classMethod\n",
    "    Cat.show_info(\"大橘\")"
   ]
  },
  {
   "cell_type": "code",
   "execution_count": null,
   "outputs": [],
   "source": [
    "# 静态方法和类方法的区别\n",
    "\"\"\"\n",
    "一、装饰器不同\n",
    "类方法和静态方法之间最明显的差异就是使用的装饰器不同了，而装饰器本质上就是一个能够来拓展函数功能的函数。类方法使用装饰器@classmethod来进行装饰，而静态方法则使用@staticmethod装饰器。\n",
    "\n",
    "二、参数不同\n",
    "类方法之中是必须要有一个参数，而这个参数的名称通常是cls，且该参数需要放在第一的位置。而这个参数表示的意思实际上就是类本身，是用来指代这个类自己的。而静态方法不需要任何强制定义任何参数，它参数列表内没有参数也是可以的。\n",
    "\n",
    "三、调用方式相同\n",
    "以上两点就是类方法以及静态方法的不同点，而它们之间最为显著的相同点则是调用方式不同。因为这两种类型的方法都不需要通过类实例对象调用，直接用类名点方法名就是可以去调用了，并且在调用时都不需要传入任何参数，\n",
    "\"\"\""
   ],
   "metadata": {
    "collapsed": false
   }
  }
 ],
 "metadata": {
  "kernelspec": {
   "display_name": "Python 3",
   "language": "python",
   "name": "python3"
  },
  "language_info": {
   "codemirror_mode": {
    "name": "ipython",
    "version": 2
   },
   "file_extension": ".py",
   "mimetype": "text/x-python",
   "name": "python",
   "nbconvert_exporter": "python",
   "pygments_lexer": "ipython2",
   "version": "2.7.6"
  }
 },
 "nbformat": 4,
 "nbformat_minor": 0
}
