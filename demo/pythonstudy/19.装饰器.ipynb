{
 "cells": [
  {
   "cell_type": "code",
   "execution_count": null,
   "metadata": {
    "collapsed": true
   },
   "outputs": [],
   "source": [
    "# 装饰器 decorator\n",
    "\"\"\"\n",
    "用来拓展原来函数功能的一种函数\n",
    "返回函数的函数\n",
    "在不用返回原函数代码的情况前提下给函数增加新的功能\n",
    "\"\"\""
   ]
  },
  {
   "cell_type": "code",
   "execution_count": null,
   "outputs": [],
   "source": [
    "def log(func):\n",
    "    \"\"\"记录执行的日志\"\"\"\n",
    "\n",
    "    # 装饰器最终是要返回一个函数的，所以需要定义一个函数\n",
    "    def wrapper():\n",
    "        print(\"开始执行\")\n",
    "        func()\n",
    "        print(\"执行完毕\")\n",
    "\n",
    "    return wrapper\n",
    "\n",
    "\n",
    "@log\n",
    "def hello():\n",
    "    \"\"\"简单功能\"\"\"\n",
    "    print(\"hello world\")\n",
    "\n",
    "\n",
    "if __name__ == \"__main__\":\n",
    "    hello()\n",
    "    \"\"\"\n",
    "    开始执行\n",
    "    hello world\n",
    "    执行完毕\n",
    "    \"\"\""
   ],
   "metadata": {
    "collapsed": false
   }
  },
  {
   "cell_type": "code",
   "execution_count": null,
   "outputs": [],
   "source": [
    "# 带参数的装饰器\n",
    "装饰器的使用\n",
    "带参数的装饰器\n",
    "\n",
    "\n",
    "def log(name=None):  # name是装饰器的参数\n",
    "    \"\"\"记录执行的日志\"\"\"\n",
    "\n",
    "    def decorator(func):\n",
    "        # 装饰器最终是要返回一个函数的，所以需要定义一个函数\n",
    "        def wrapper(*args, **kwargs):  # 被修饰函数的参数\n",
    "            print(\"{0}开始执行\".format(name))\n",
    "            result = func(*args, **kwargs)\n",
    "            print(\"{0}执行完毕\".format(name))\n",
    "            return result\n",
    "\n",
    "        return wrapper\n",
    "\n",
    "    return decorator\n",
    "\n",
    "\n",
    "# 带参数的装饰器\n",
    "@log('YAYO')\n",
    "def hello(helloName):\n",
    "    \"\"\"简单功能\"\"\"\n",
    "    print(\"hello world\")\n",
    "\n",
    "\n",
    "if __name__ == \"__main__\":\n",
    "    hello(\"yanyue\")"
   ],
   "metadata": {
    "collapsed": false
   }
  },
  {
   "cell_type": "code",
   "execution_count": null,
   "outputs": [],
   "source": [
    "# 带参数的装饰器之wraps\n",
    "\n",
    "# 装饰器的使用  带参数的装饰器\n",
    "from functools import wraps\n",
    "\n",
    "\n",
    "def log(name=None):  # name是装饰器的参数\n",
    "    \"\"\"记录执行的日志\"\"\"\n",
    "\n",
    "    def decorator(func):\n",
    "        # 装饰器最终是要返回一个函数的，所以需要定义一个函数\n",
    "        @wraps(func)\n",
    "        def wrapper(*args, **kwargs):  # 被修饰函数的参数\n",
    "            print(\"{0}开始执行\".format(name))\n",
    "            result = func(*args, **kwargs)\n",
    "            print(\"{0}执行完毕\".format(name))\n",
    "            return result\n",
    "\n",
    "        return wrapper\n",
    "\n",
    "    return decorator\n",
    "\n",
    "\n",
    "# 带参数的装饰器\n",
    "@log('YAYO')\n",
    "def hello(helloName):\n",
    "    \"\"\"简单功能\"\"\"\n",
    "    print(\"hello world\")\n",
    "\n",
    "\n",
    "if __name__ == \"__main__\":\n",
    "    hello(\"yanyue\")\n",
    "    # 如果没有在上面的装饰器内部中添加@wraps(func)，这边函数会输出装饰器的文档和名称\n",
    "    print(hello.__doc__)  # 简单功能\n",
    "    print(hello.__name__)  # hello"
   ],
   "metadata": {
    "collapsed": false
   }
  },
  {
   "cell_type": "code",
   "execution_count": null,
   "outputs": [],
   "source": [
    "# 类的装饰器 -- 类功能成扩展\n",
    "def eat(cls):\n",
    "    \"\"\"吃鱼的装饰器\"\"\"\n",
    "    cls.eat = lambda self: print(\"{0}要吃鱼\".format(self.name))\n",
    "    return cls\n",
    "\n",
    "\n",
    "# 给类添加装饰器 -- 扩展类的功能\n",
    "@eat\n",
    "class Cat:\n",
    "    def __init__(self, name):\n",
    "        self.name = name\n",
    "\n",
    "\n",
    "if __name__ == \"__main__\":\n",
    "    cat = Cat('加菲猫')\n",
    "    cat.eat()"
   ],
   "metadata": {
    "collapsed": false
   }
  }
 ],
 "metadata": {
  "kernelspec": {
   "display_name": "Python 3",
   "language": "python",
   "name": "python3"
  },
  "language_info": {
   "codemirror_mode": {
    "name": "ipython",
    "version": 2
   },
   "file_extension": ".py",
   "mimetype": "text/x-python",
   "name": "python",
   "nbconvert_exporter": "python",
   "pygments_lexer": "ipython2",
   "version": "2.7.6"
  }
 },
 "nbformat": 4,
 "nbformat_minor": 0
}
