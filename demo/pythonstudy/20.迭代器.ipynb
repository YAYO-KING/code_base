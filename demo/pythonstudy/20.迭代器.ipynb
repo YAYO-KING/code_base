{
 "cells": [
  {
   "cell_type": "code",
   "execution_count": null,
   "metadata": {
    "collapsed": true
   },
   "outputs": [],
   "source": [
    "# 迭代：意味着重复多次 就像循环那样子\n",
    "# 实现了方法 __iter__\n",
    "# 调用方法 __next__"
   ]
  },
  {
   "cell_type": "code",
   "execution_count": null,
   "outputs": [],
   "source": [
    "# 迭代器的测试\n",
    "lis1 = [1, 2, 3, 4, 5]\n",
    "for val in lis1:\n",
    "    print(val)\n",
    "\n",
    "print(\"------------------------------------------\")\n",
    "\n",
    "# 将列表变为一个迭代器\n",
    "it1 = iter(lis1)\n",
    "# __next__() 返回迭代器的下一个值\n",
    "print(it1.__next__())  # 1\n",
    "print(it1.__next__())  # 2\n",
    "print(it1.__next__())  # 3\n",
    "print(next(it1))  # 4\n",
    "\n",
    "\n",
    "class PowNumber:\n",
    "    \"\"\"迭代器：生成1,2,3,4,5...数的平方\"\"\"\n",
    "    value = 0\n",
    "\n",
    "    def __next__(self):\n",
    "        self.value += 1\n",
    "        return self.value * self.value\n",
    "\n",
    "    def __iter__(self):\n",
    "        return self\n",
    "\n",
    "\n",
    "if __name__ == \"__main__\":\n",
    "    pow = PowNumber()\n",
    "    print(pow.__next__())  # 1\n",
    "    print(next(pow))  # 4\n",
    "    print(next(pow))  # 9"
   ],
   "metadata": {
    "collapsed": false
   }
  }
 ],
 "metadata": {
  "kernelspec": {
   "display_name": "Python 3",
   "language": "python",
   "name": "python3"
  },
  "language_info": {
   "codemirror_mode": {
    "name": "ipython",
    "version": 2
   },
   "file_extension": ".py",
   "mimetype": "text/x-python",
   "name": "python",
   "nbconvert_exporter": "python",
   "pygments_lexer": "ipython2",
   "version": "2.7.6"
  }
 },
 "nbformat": 4,
 "nbformat_minor": 0
}
