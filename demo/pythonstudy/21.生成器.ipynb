{
 "cells": [
  {
   "cell_type": "code",
   "execution_count": null,
   "metadata": {
    "collapsed": true
   },
   "outputs": [],
   "source": [
    "# 生成器\n",
    "# generator\n",
    "# 生成器测试\n",
    "lis1 = [1, 2, 3, 4, 5]\n",
    "gen1 = (x * x for x in lis1)\n",
    "print(gen1)  # <generator object <genexpr> at 0x015857B0>\n",
    "# 生成器是一种特殊的迭代器\n",
    "print(gen1.__next__())  # 1\n",
    "print(gen1.__next__())  # 4\n",
    "\n",
    "\n",
    "# 自定义一个函数得到生成器\n",
    "def pow():\n",
    "    yield 1\n",
    "    yield 2\n",
    "    yield 3\n",
    "    yield 4\n",
    "\n",
    "\n",
    "def pow_number():\n",
    "    return (x * x for x in [1, 2, 3, 4, 5])\n",
    "\n",
    "\n",
    "def pow_number2():\n",
    "    for x in [1, 2, 3, 4, 5]:\n",
    "        yield x * x\n",
    "\n",
    "\n",
    "if __name__ == '__main__':\n",
    "    gen2 = pow()  # <generator object pow at 0x00A15470>\n",
    "    print(next(gen2))  # 1\n",
    "    print(next(gen2))  # 2\n",
    "    print(next(gen2))  # 3\n",
    "    for i in gen2:\n",
    "        print(i)  # 1 2 3 4"
   ]
  }
 ],
 "metadata": {
  "kernelspec": {
   "display_name": "Python 3",
   "language": "python",
   "name": "python3"
  },
  "language_info": {
   "codemirror_mode": {
    "name": "ipython",
    "version": 2
   },
   "file_extension": ".py",
   "mimetype": "text/x-python",
   "name": "python",
   "nbconvert_exporter": "python",
   "pygments_lexer": "ipython2",
   "version": "2.7.6"
  }
 },
 "nbformat": 4,
 "nbformat_minor": 0
}
