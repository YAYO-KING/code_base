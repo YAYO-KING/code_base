{
 "cells": [
  {
   "cell_type": "code",
   "execution_count": null,
   "metadata": {
    "collapsed": true
   },
   "outputs": [],
   "source": [
    "# 内置的异常类 Exception\n",
    "\n",
    "# try -- except -- finally：捕获异常\n",
    "\n",
    "def testDiv(num1, num2):\n",
    "    return num1 / num2\n",
    "\n",
    "\n",
    "def readFile(filename):\n",
    "    try:\n",
    "        f = open(filename, 'r', encoding='utf-8')\n",
    "        rest = r.read()\n",
    "        print(rest)\n",
    "    except Exception as err:\n",
    "        print(\"error:\" + err)\n",
    "    finally:\n",
    "        try:\n",
    "            f.close()\n",
    "            print('closed')\n",
    "        except:\n",
    "            pass\n",
    "\n",
    "\n",
    "if __name__ == \"__main__\":\n",
    "    try:\n",
    "        rest = testDiv(5, 0)\n",
    "    except:\n",
    "        print(\"报错了，除数不能为0\")\n"
   ]
  },
  {
   "cell_type": "code",
   "execution_count": null,
   "outputs": [],
   "source": [
    "# 自定义异常\n",
    "\n",
    "# 通过继承Exception\n",
    "\n",
    "自定义异常\n",
    "\n",
    "\n",
    "class ApiException(Exception):\n",
    "    \"\"\"我的自定义异常\"\"\"\n",
    "    errCode = \"\"\n",
    "    errMsg = \"\"\n",
    "\n",
    "    def __init__(self, errCode=None, errMsg=None):\n",
    "        self.errCode = self.errCode if self.errCode else errCode\n",
    "        self.errMsg = self.errMsg if self.errMsg else errMsg\n",
    "\n",
    "    def __str__(self):\n",
    "        return \"Error:\" + self.errCode + \"-\" + self.errMsg\n",
    "\n",
    "\n",
    "class InvalidCtrlExec(ApiException):\n",
    "    \"\"\"参数不合法时触发\"\"\"\n",
    "\n",
    "    errCode = \"400001\"\n",
    "    errMsg = \"不合法的调用凭证\"\n",
    "\n",
    "\n",
    "class BadParamsException(ApiException):\n",
    "    \"\"\"参数不正确\"\"\"\n",
    "    errCode = \"400002\"\n",
    "    errMsg = \"两个参数必须是整数\"\n",
    "\n",
    "\n",
    "def divide(num1, num2):\n",
    "    # 两个数必须是整数\n",
    "    if not isinstance(num1, int) or not isinstance(num2, int):\n",
    "        # raise 触发异常\n",
    "        raise BadParamsException()\n",
    "    # 除数不能为0\n",
    "    if num2 == 0:\n",
    "        raise ApiException('40000', '除数不能为0')\n",
    "    return num1 / num2\n",
    "\n",
    "\n",
    "if __name__ == \"__main__\":\n",
    "    try:\n",
    "        rest = divide(5, 'str')\n",
    "        print(rest)\n",
    "    except ApiException as err:\n",
    "        print(\"出错了\")\n",
    "        print(err)  # ('40000', '除数不能为0')\n"
   ],
   "metadata": {
    "collapsed": false
   }
  }
 ],
 "metadata": {
  "kernelspec": {
   "display_name": "Python 3",
   "language": "python",
   "name": "python3"
  },
  "language_info": {
   "codemirror_mode": {
    "name": "ipython",
    "version": 2
   },
   "file_extension": ".py",
   "mimetype": "text/x-python",
   "name": "python",
   "nbconvert_exporter": "python",
   "pygments_lexer": "ipython2",
   "version": "2.7.6"
  }
 },
 "nbformat": 4,
 "nbformat_minor": 0
}
