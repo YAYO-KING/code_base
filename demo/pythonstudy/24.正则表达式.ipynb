{
 "cells": [
  {
   "cell_type": "code",
   "execution_count": null,
   "metadata": {
    "collapsed": true
   },
   "outputs": [],
   "source": [
    "# 身份证 号码的校验\n",
    "# 需要使用分组的概念\n",
    "# 1.前6位：区域的编号\n",
    "# 2.接下来的4位：出生的日期\n",
    "# 3.接下来的4位：出生的月份、日期\n",
    "# 4.最后4位：\n",
    "# 5.倒数第二位：性别\n",
    "\n",
    "# 身份证\n",
    "# (^\\d{15}$)|(^\\d{18}$)|(^\\d{17}(\\d|X|x)$)\n",
    "\n",
    "# 邮箱\n",
    "# ^[\\w-]+(\\.[\\w-]+)*@[\\w-]+(\\.[\\w-]+)+$"
   ]
  }
 ],
 "metadata": {
  "kernelspec": {
   "display_name": "Python 3",
   "language": "python",
   "name": "python3"
  },
  "language_info": {
   "codemirror_mode": {
    "name": "ipython",
    "version": 2
   },
   "file_extension": ".py",
   "mimetype": "text/x-python",
   "name": "python",
   "nbconvert_exporter": "python",
   "pygments_lexer": "ipython2",
   "version": "2.7.6"
  }
 },
 "nbformat": 4,
 "nbformat_minor": 0
}
