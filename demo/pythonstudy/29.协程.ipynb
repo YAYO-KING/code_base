{
 "cells": [
  {
   "cell_type": "code",
   "execution_count": null,
   "metadata": {
    "collapsed": true
   },
   "outputs": [],
   "source": [
    "import asyncio\n",
    "\n",
    "\n",
    "async def do_sth(x):\n",
    "    \"\"\"定义协程函数\"\"\"\n",
    "    print(\"等待中：{0}\".format(x))\n",
    "    await asyncio.sleep(x)\n",
    "\n",
    "\n",
    "# 判断是否未协程函数\n",
    "print(asyncio.iscoroutinefunction(do_sth))  # True\n",
    "\n",
    "coroutine = do_sth(5)\n",
    "# 创建事件的循环队列，将协程添加到事件的循环队列中\n",
    "loop = asyncio.get_event_loop()\n",
    "# 注册任务\n",
    "task = loop.create_task(coroutine)\n",
    "print(task)  # <Task pending coro=<do_sth() running at D:/YAYO-WEB/python/oop/async_test.py:4>>\n",
    "# 等待协程任务执行结束\n",
    "loop.run_until_complete(task)\n",
    "print(task)  # <Task finished coro=<do_sth() done, defined at D:/YAYO-WEB/python/oop/async_test.py:4> result=None>"
   ]
  },
  {
   "cell_type": "code",
   "execution_count": null,
   "outputs": [],
   "source": [
    "# 协程之间的通讯\n",
    "\n",
    "# 1.定义一个队列\n",
    "# 2.让2个协程进行通讯\n",
    "# 3.让其中一个协程往队列中写入数据\n",
    "# 4.让另一个协程从队列中删除数据\n",
    "\n",
    "import asyncio\n",
    "import random\n",
    "\n",
    "\n",
    "async def add(store):\n",
    "    \"\"\"写入数据到队列中\"\"\"\n",
    "    for i in range(5):\n",
    "        # 往队列中添加数字\n",
    "        await store.put(i)\n",
    "        await asyncio.sleep(random.randint(1, 5))\n",
    "        print(\"add one ... {0},size:{1}\".format(i, store.qsize()))\n",
    "\n",
    "\n",
    "async def reduce(store):\n",
    "    \"\"\"从队列中删除数据\"\"\"\n",
    "    for i in range(10):\n",
    "        result = await store.get()\n",
    "        print(result)\n",
    "        print(\"reduce one 。。 {0}，size:{1}\".format(result, store.qsize()))\n",
    "\n",
    "\n",
    "if __name__ == \"__main__\":\n",
    "    # 准备一个队列\n",
    "    store = asyncio.Queue(maxsize=5)  # maxsize队列大小\n",
    "    a1 = add(store)\n",
    "    a2 = add(store)\n",
    "    r1 = reduce(store)\n",
    "    # 添加到事件队列中去\n",
    "    loop = asyncio.get_event_loop()\n",
    "    loop.run_until_complete(asyncio.gather(a1, a2, r1))\n",
    "    loop.close()\n"
   ],
   "metadata": {
    "collapsed": false
   }
  }
 ],
 "metadata": {
  "kernelspec": {
   "display_name": "Python 3",
   "language": "python",
   "name": "python3"
  },
  "language_info": {
   "codemirror_mode": {
    "name": "ipython",
    "version": 2
   },
   "file_extension": ".py",
   "mimetype": "text/x-python",
   "name": "python",
   "nbconvert_exporter": "python",
   "pygments_lexer": "ipython2",
   "version": "2.7.6"
  }
 },
 "nbformat": 4,
 "nbformat_minor": 0
}
